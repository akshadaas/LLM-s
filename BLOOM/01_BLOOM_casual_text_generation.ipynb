{
  "nbformat": 4,
  "nbformat_minor": 0,
  "metadata": {
    "colab": {
      "provenance": [],
      "toc_visible": true,
      "authorship_tag": "ABX9TyM7Wz3IS//oeVE6TwNTsgJ7",
      "include_colab_link": true
    },
    "kernelspec": {
      "name": "python3",
      "display_name": "Python 3"
    },
    "language_info": {
      "name": "python"
    },
    "accelerator": "GPU",
    "gpuClass": "standard"
  },
  "cells": [
    {
      "cell_type": "markdown",
      "metadata": {
        "id": "view-in-github",
        "colab_type": "text"
      },
      "source": [
        "<a href=\"https://colab.research.google.com/github/ianuragbhatt/LLM-s/blob/main/BLOOM/01_BLOOM_casual_text_generation.ipynb\" target=\"_parent\"><img src=\"https://colab.research.google.com/assets/colab-badge.svg\" alt=\"Open In Colab\"/></a>"
      ]
    },
    {
      "cell_type": "markdown",
      "source": [
        "## Wrapped Python Output"
      ],
      "metadata": {
        "id": "9Q5SlwqXckYK"
      }
    },
    {
      "cell_type": "code",
      "source": [
        "# wrapped python output\n",
        "from IPython.display import HTML, display\n",
        "\n",
        "def set_css():\n",
        "  display(HTML('''\n",
        "  <style>\n",
        "    pre {\n",
        "        white-space: pre-wrap;\n",
        "    }\n",
        "  </style>\n",
        "  '''))\n",
        "get_ipython().events.register('pre_run_cell', set_css)"
      ],
      "metadata": {
        "id": "xy7XJVB4Flb9"
      },
      "execution_count": 1,
      "outputs": []
    },
    {
      "cell_type": "markdown",
      "source": [
        "# Import Libraries"
      ],
      "metadata": {
        "id": "tTOz6o-Ucqip"
      }
    },
    {
      "cell_type": "code",
      "execution_count": 2,
      "metadata": {
        "colab": {
          "base_uri": "https://localhost:8080/",
          "height": 69
        },
        "id": "pYO9JfZUBhLH",
        "outputId": "16ef83a7-da4c-4e0f-e304-b1dbae3f87be"
      },
      "outputs": [
        {
          "output_type": "display_data",
          "data": {
            "text/plain": [
              "<IPython.core.display.HTML object>"
            ],
            "text/html": [
              "\n",
              "  <style>\n",
              "    pre {\n",
              "        white-space: pre-wrap;\n",
              "    }\n",
              "  </style>\n",
              "  "
            ]
          },
          "metadata": {}
        },
        {
          "output_type": "stream",
          "name": "stdout",
          "text": [
            "\u001b[2K     \u001b[90m━━━━━━━━━━━━━━━━━━━━━━━━━━━━━━━━━━━━━━━━\u001b[0m \u001b[32m6.3/6.3 MB\u001b[0m \u001b[31m52.3 MB/s\u001b[0m eta \u001b[36m0:00:00\u001b[0m\n",
            "\u001b[2K     \u001b[90m━━━━━━━━━━━━━━━━━━━━━━━━━━━━━━━━━━━━━━\u001b[0m \u001b[32m190.3/190.3 KB\u001b[0m \u001b[31m22.9 MB/s\u001b[0m eta \u001b[36m0:00:00\u001b[0m\n",
            "\u001b[2K     \u001b[90m━━━━━━━━━━━━━━━━━━━━━━━━━━━━━━━━━━━━━━━━\u001b[0m \u001b[32m7.6/7.6 MB\u001b[0m \u001b[31m102.4 MB/s\u001b[0m eta \u001b[36m0:00:00\u001b[0m\n",
            "\u001b[?25h"
          ]
        }
      ],
      "source": [
        "!pip install -q transformers"
      ]
    },
    {
      "cell_type": "code",
      "source": [
        "from transformers import AutoTokenizer, AutoModelForCausalLM"
      ],
      "metadata": {
        "colab": {
          "base_uri": "https://localhost:8080/",
          "height": 17
        },
        "id": "hpui_Kx1B06e",
        "outputId": "dafe25e1-699f-4aa7-83d9-6134726b04b4"
      },
      "execution_count": 4,
      "outputs": [
        {
          "output_type": "display_data",
          "data": {
            "text/plain": [
              "<IPython.core.display.HTML object>"
            ],
            "text/html": [
              "\n",
              "  <style>\n",
              "    pre {\n",
              "        white-space: pre-wrap;\n",
              "    }\n",
              "  </style>\n",
              "  "
            ]
          },
          "metadata": {}
        }
      ]
    },
    {
      "cell_type": "markdown",
      "source": [
        "# "
      ],
      "metadata": {
        "id": "aewpbqmQcy5_"
      }
    },
    {
      "cell_type": "code",
      "source": [
        "tokenizer = AutoTokenizer.from_pretrained(\"bigscience/bloom-1b1\")\n",
        "\n",
        "model = AutoModelForCausalLM.from_pretrained(\"bigscience/bloom-1b1\")"
      ],
      "metadata": {
        "id": "gsuWpNyBc06_"
      },
      "execution_count": null,
      "outputs": []
    },
    {
      "cell_type": "code",
      "source": [
        "prompt = \"Anurag opened a file and started to read its contents then\"\n",
        "result_length = 50\n",
        "inputs = tokenizer(prompt,  return_tensors=\"pt\")"
      ],
      "metadata": {
        "id": "hwtoED0IB7jr"
      },
      "execution_count": null,
      "outputs": []
    },
    {
      "cell_type": "code",
      "source": [
        "inputs"
      ],
      "metadata": {
        "id": "oDXjKgxJDEAb"
      },
      "execution_count": null,
      "outputs": []
    },
    {
      "cell_type": "code",
      "source": [
        "# outputs = model(**inputs, labels=inputs[\"input_ids\"])\n",
        "# loss = outputs.loss\n",
        "# logits = outputs.logits"
      ],
      "metadata": {
        "id": "ROaz60QiDqZ7"
      },
      "execution_count": null,
      "outputs": []
    },
    {
      "cell_type": "code",
      "source": [
        "# Greedy Search\n",
        "print(tokenizer.decode(model.generate(inputs[\"input_ids\"], \n",
        "                       max_length=result_length,\n",
        "                       no_repeat_ngram_size=2\n",
        "                      )[0]))"
      ],
      "metadata": {
        "id": "A2zK_n3iC5Mj"
      },
      "execution_count": null,
      "outputs": []
    },
    {
      "cell_type": "code",
      "source": [
        "# Beam Search\n",
        "print(tokenizer.decode(model.generate(inputs[\"input_ids\"],\n",
        "                       max_length=result_length, \n",
        "                       num_beams=2, \n",
        "                       no_repeat_ngram_size=2,\n",
        "                       early_stopping=True\n",
        "                      )[0]))"
      ],
      "metadata": {
        "id": "0ZYWwt2wDAim"
      },
      "execution_count": null,
      "outputs": []
    },
    {
      "cell_type": "code",
      "source": [
        "# Sampling Top-k + Top-p\n",
        "print(tokenizer.decode(model.generate(inputs[\"input_ids\"],\n",
        "                       max_length=result_length, \n",
        "                       do_sample=True, \n",
        "                       top_k=50, \n",
        "                       top_p=0.9\n",
        "                      )[0]))"
      ],
      "metadata": {
        "id": "WZSKeTryGwfg"
      },
      "execution_count": null,
      "outputs": []
    },
    {
      "cell_type": "code",
      "source": [],
      "metadata": {
        "id": "0uOJtnftJMl6"
      },
      "execution_count": null,
      "outputs": []
    }
  ]
}